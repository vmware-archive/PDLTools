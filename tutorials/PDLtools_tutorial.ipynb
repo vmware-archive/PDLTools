{
 "cells": [
  {
   "cell_type": "markdown",
   "metadata": {},
   "source": [
    "## PDLtools tutorial"
   ]
  },
  {
   "cell_type": "markdown",
   "metadata": {},
   "source": [
    "### Database connectivity setup"
   ]
  },
  {
   "cell_type": "code",
   "execution_count": 122,
   "metadata": {
    "collapsed": false
   },
   "outputs": [],
   "source": [
    "%run 'database_connectivity_setup_demo.ipynb'\n",
    "IPython.display.clear_output()\n",
    "from IPython.display import display\n",
    "import pandas as pd"
   ]
  },
  {
   "cell_type": "markdown",
   "metadata": {},
   "source": [
    "### Toy dataset: autompg"
   ]
  },
  {
   "cell_type": "code",
   "execution_count": 78,
   "metadata": {
    "collapsed": false
   },
   "outputs": [
    {
     "data": {
      "text/html": [
       "<div>\n",
       "<table border=\"1\" class=\"dataframe\">\n",
       "  <thead>\n",
       "    <tr style=\"text-align: right;\">\n",
       "      <th></th>\n",
       "      <th>car_id</th>\n",
       "      <th>symboling</th>\n",
       "      <th>normalized_losses</th>\n",
       "      <th>make</th>\n",
       "      <th>fuel_type</th>\n",
       "      <th>aspiration</th>\n",
       "      <th>num_of_doors</th>\n",
       "      <th>body_style</th>\n",
       "      <th>drive_wheels</th>\n",
       "      <th>engine_location</th>\n",
       "      <th>wheel_base</th>\n",
       "      <th>length</th>\n",
       "      <th>width</th>\n",
       "      <th>height</th>\n",
       "      <th>curb_weight</th>\n",
       "      <th>engine_type</th>\n",
       "      <th>num_of_cylinders</th>\n",
       "      <th>engine_size</th>\n",
       "      <th>fuel_system</th>\n",
       "      <th>bore</th>\n",
       "      <th>stroke</th>\n",
       "      <th>compression_ratio</th>\n",
       "      <th>horsepower</th>\n",
       "      <th>peak_rpm</th>\n",
       "      <th>city_mpg</th>\n",
       "      <th>highway_mpg</th>\n",
       "      <th>price</th>\n",
       "    </tr>\n",
       "  </thead>\n",
       "  <tbody>\n",
       "    <tr>\n",
       "      <th>0</th>\n",
       "      <td>31</td>\n",
       "      <td>0</td>\n",
       "      <td>102</td>\n",
       "      <td>subaru</td>\n",
       "      <td>gas</td>\n",
       "      <td>turbo</td>\n",
       "      <td>four</td>\n",
       "      <td>sedan</td>\n",
       "      <td>4wd</td>\n",
       "      <td>front</td>\n",
       "      <td>97.0</td>\n",
       "      <td>172.0</td>\n",
       "      <td>65.4</td>\n",
       "      <td>54.3</td>\n",
       "      <td>2510</td>\n",
       "      <td>ohcf</td>\n",
       "      <td>four</td>\n",
       "      <td>108</td>\n",
       "      <td>mpfi</td>\n",
       "      <td>3.62</td>\n",
       "      <td>2.64</td>\n",
       "      <td>7.7</td>\n",
       "      <td>111</td>\n",
       "      <td>4800</td>\n",
       "      <td>24</td>\n",
       "      <td>29</td>\n",
       "      <td>11259</td>\n",
       "    </tr>\n",
       "    <tr>\n",
       "      <th>1</th>\n",
       "      <td>63</td>\n",
       "      <td>-1</td>\n",
       "      <td>65</td>\n",
       "      <td>toyota</td>\n",
       "      <td>diesel</td>\n",
       "      <td>turbo</td>\n",
       "      <td>four</td>\n",
       "      <td>sedan</td>\n",
       "      <td>fwd</td>\n",
       "      <td>front</td>\n",
       "      <td>102.4</td>\n",
       "      <td>175.6</td>\n",
       "      <td>66.5</td>\n",
       "      <td>54.9</td>\n",
       "      <td>2480</td>\n",
       "      <td>ohc</td>\n",
       "      <td>four</td>\n",
       "      <td>110</td>\n",
       "      <td>idi</td>\n",
       "      <td>3.27</td>\n",
       "      <td>3.35</td>\n",
       "      <td>22.5</td>\n",
       "      <td>73</td>\n",
       "      <td>4500</td>\n",
       "      <td>30</td>\n",
       "      <td>33</td>\n",
       "      <td>10698</td>\n",
       "    </tr>\n",
       "    <tr>\n",
       "      <th>2</th>\n",
       "      <td>76</td>\n",
       "      <td>3</td>\n",
       "      <td>150</td>\n",
       "      <td>saab</td>\n",
       "      <td>gas</td>\n",
       "      <td>turbo</td>\n",
       "      <td>two</td>\n",
       "      <td>hatchback</td>\n",
       "      <td>fwd</td>\n",
       "      <td>front</td>\n",
       "      <td>99.1</td>\n",
       "      <td>186.6</td>\n",
       "      <td>66.5</td>\n",
       "      <td>56.1</td>\n",
       "      <td>2808</td>\n",
       "      <td>dohc</td>\n",
       "      <td>four</td>\n",
       "      <td>121</td>\n",
       "      <td>mpfi</td>\n",
       "      <td>3.54</td>\n",
       "      <td>3.07</td>\n",
       "      <td>9.0</td>\n",
       "      <td>160</td>\n",
       "      <td>5500</td>\n",
       "      <td>19</td>\n",
       "      <td>26</td>\n",
       "      <td>18150</td>\n",
       "    </tr>\n",
       "    <tr>\n",
       "      <th>3</th>\n",
       "      <td>108</td>\n",
       "      <td>1</td>\n",
       "      <td>128</td>\n",
       "      <td>nissan</td>\n",
       "      <td>diesel</td>\n",
       "      <td>std</td>\n",
       "      <td>two</td>\n",
       "      <td>sedan</td>\n",
       "      <td>fwd</td>\n",
       "      <td>front</td>\n",
       "      <td>94.5</td>\n",
       "      <td>165.3</td>\n",
       "      <td>63.8</td>\n",
       "      <td>54.5</td>\n",
       "      <td>2017</td>\n",
       "      <td>ohc</td>\n",
       "      <td>four</td>\n",
       "      <td>103</td>\n",
       "      <td>idi</td>\n",
       "      <td>2.99</td>\n",
       "      <td>3.47</td>\n",
       "      <td>21.9</td>\n",
       "      <td>55</td>\n",
       "      <td>4800</td>\n",
       "      <td>45</td>\n",
       "      <td>50</td>\n",
       "      <td>7099</td>\n",
       "    </tr>\n",
       "    <tr>\n",
       "      <th>4</th>\n",
       "      <td>25</td>\n",
       "      <td>-1</td>\n",
       "      <td>95</td>\n",
       "      <td>volvo</td>\n",
       "      <td>gas</td>\n",
       "      <td>turbo</td>\n",
       "      <td>four</td>\n",
       "      <td>sedan</td>\n",
       "      <td>rwd</td>\n",
       "      <td>front</td>\n",
       "      <td>109.1</td>\n",
       "      <td>188.8</td>\n",
       "      <td>68.9</td>\n",
       "      <td>55.5</td>\n",
       "      <td>3062</td>\n",
       "      <td>ohc</td>\n",
       "      <td>four</td>\n",
       "      <td>141</td>\n",
       "      <td>mpfi</td>\n",
       "      <td>3.78</td>\n",
       "      <td>3.15</td>\n",
       "      <td>9.5</td>\n",
       "      <td>114</td>\n",
       "      <td>5400</td>\n",
       "      <td>19</td>\n",
       "      <td>25</td>\n",
       "      <td>22625</td>\n",
       "    </tr>\n",
       "  </tbody>\n",
       "</table>\n",
       "</div>"
      ],
      "text/plain": [
       "   car_id  symboling  normalized_losses    make fuel_type aspiration  \\\n",
       "0  31      0          102                subaru  gas       turbo       \n",
       "1  63     -1          65                 toyota  diesel    turbo       \n",
       "2  76      3          150                saab    gas       turbo       \n",
       "3  108     1          128                nissan  diesel    std         \n",
       "4  25     -1          95                 volvo   gas       turbo       \n",
       "\n",
       "  num_of_doors body_style drive_wheels engine_location  wheel_base  length  \\\n",
       "0  four         sedan      4wd          front           97.0        172.0    \n",
       "1  four         sedan      fwd          front           102.4       175.6    \n",
       "2  two          hatchback  fwd          front           99.1        186.6    \n",
       "3  two          sedan      fwd          front           94.5        165.3    \n",
       "4  four         sedan      rwd          front           109.1       188.8    \n",
       "\n",
       "   width  height  curb_weight engine_type num_of_cylinders  engine_size  \\\n",
       "0  65.4   54.3    2510         ohcf        four             108           \n",
       "1  66.5   54.9    2480         ohc         four             110           \n",
       "2  66.5   56.1    2808         dohc        four             121           \n",
       "3  63.8   54.5    2017         ohc         four             103           \n",
       "4  68.9   55.5    3062         ohc         four             141           \n",
       "\n",
       "  fuel_system  bore  stroke  compression_ratio  horsepower  peak_rpm  \\\n",
       "0  mpfi        3.62  2.64    7.7                111         4800       \n",
       "1  idi         3.27  3.35    22.5               73          4500       \n",
       "2  mpfi        3.54  3.07    9.0                160         5500       \n",
       "3  idi         2.99  3.47    21.9               55          4800       \n",
       "4  mpfi        3.78  3.15    9.5                114         5400       \n",
       "\n",
       "   city_mpg  highway_mpg  price  \n",
       "0  24        29           11259  \n",
       "1  30        33           10698  \n",
       "2  19        26           18150  \n",
       "3  45        50           7099   \n",
       "4  19        25           22625  "
      ]
     },
     "metadata": {},
     "output_type": "display_data"
    }
   ],
   "source": [
    "%%showsql\n",
    "select\n",
    "    *\n",
    "from\n",
    "    autompg\n",
    "limit 5;"
   ]
  },
  {
   "cell_type": "code",
   "execution_count": 81,
   "metadata": {
    "collapsed": false
   },
   "outputs": [
    {
     "data": {
      "text/html": [
       "<div>\n",
       "<table border=\"1\" class=\"dataframe\">\n",
       "  <thead>\n",
       "    <tr style=\"text-align: right;\">\n",
       "      <th></th>\n",
       "      <th>body_style</th>\n",
       "      <th>count</th>\n",
       "    </tr>\n",
       "  </thead>\n",
       "  <tbody>\n",
       "    <tr>\n",
       "      <th>0</th>\n",
       "      <td>sedan</td>\n",
       "      <td>79</td>\n",
       "    </tr>\n",
       "    <tr>\n",
       "      <th>1</th>\n",
       "      <td>hatchback</td>\n",
       "      <td>56</td>\n",
       "    </tr>\n",
       "    <tr>\n",
       "      <th>2</th>\n",
       "      <td>wagon</td>\n",
       "      <td>17</td>\n",
       "    </tr>\n",
       "    <tr>\n",
       "      <th>3</th>\n",
       "      <td>hardtop</td>\n",
       "      <td>5</td>\n",
       "    </tr>\n",
       "    <tr>\n",
       "      <th>4</th>\n",
       "      <td>convertible</td>\n",
       "      <td>2</td>\n",
       "    </tr>\n",
       "  </tbody>\n",
       "</table>\n",
       "</div>"
      ],
      "text/plain": [
       "    body_style  count\n",
       "0  sedan        79   \n",
       "1  hatchback    56   \n",
       "2  wagon        17   \n",
       "3  hardtop      5    \n",
       "4  convertible  2    "
      ]
     },
     "metadata": {},
     "output_type": "display_data"
    }
   ],
   "source": [
    "%%showsql\n",
    "select\n",
    "    body_style,\n",
    "    count(*)\n",
    "from\n",
    "    autompg\n",
    "group by 1\n",
    "order by 2 desc;"
   ]
  },
  {
   "cell_type": "code",
   "execution_count": 91,
   "metadata": {
    "collapsed": false
   },
   "outputs": [
    {
     "data": {
      "text/html": [
       "<div>\n",
       "<table border=\"1\" class=\"dataframe\">\n",
       "  <thead>\n",
       "    <tr style=\"text-align: right;\">\n",
       "      <th></th>\n",
       "      <th>fuel_system</th>\n",
       "      <th>count</th>\n",
       "    </tr>\n",
       "  </thead>\n",
       "  <tbody>\n",
       "    <tr>\n",
       "      <th>0</th>\n",
       "      <td>mpfi</td>\n",
       "      <td>64</td>\n",
       "    </tr>\n",
       "    <tr>\n",
       "      <th>1</th>\n",
       "      <td>2bbl</td>\n",
       "      <td>63</td>\n",
       "    </tr>\n",
       "    <tr>\n",
       "      <th>2</th>\n",
       "      <td>idi</td>\n",
       "      <td>15</td>\n",
       "    </tr>\n",
       "    <tr>\n",
       "      <th>3</th>\n",
       "      <td>1bbl</td>\n",
       "      <td>11</td>\n",
       "    </tr>\n",
       "    <tr>\n",
       "      <th>4</th>\n",
       "      <td>spdi</td>\n",
       "      <td>5</td>\n",
       "    </tr>\n",
       "    <tr>\n",
       "      <th>5</th>\n",
       "      <td>mfi</td>\n",
       "      <td>1</td>\n",
       "    </tr>\n",
       "  </tbody>\n",
       "</table>\n",
       "</div>"
      ],
      "text/plain": [
       "  fuel_system  count\n",
       "0  mpfi        64   \n",
       "1  2bbl        63   \n",
       "2  idi         15   \n",
       "3  1bbl        11   \n",
       "4  spdi        5    \n",
       "5  mfi         1    "
      ]
     },
     "metadata": {},
     "output_type": "display_data"
    }
   ],
   "source": [
    "%%showsql\n",
    "select\n",
    "    fuel_system,\n",
    "    count(*)\n",
    "from\n",
    "    autompg\n",
    "group by 1\n",
    "order by 2 desc;"
   ]
  },
  {
   "cell_type": "code",
   "execution_count": 147,
   "metadata": {
    "collapsed": false
   },
   "outputs": [],
   "source": [
    "sql = \"\"\"\n",
    "DROP TABLE IF EXISTS autompg_pivot;\n",
    "SELECT sugarlib.sugar(\n",
    "$$\n",
    "CREATE TABLE autompg_pivot AS \n",
    "    SELECT \n",
    "        car_id,\n",
    "        make,\n",
    "        sugarlib.pivot01(body_style, autompg, null, null, sugarlib.all_but_one()),\n",
    "        sugarlib.pivot01(fuel_system, autompg, null, null, sugarlib.freq_vals(3)),\n",
    "        bore,\n",
    "        stroke,\n",
    "        compression_ratio,\n",
    "        horsepower,\n",
    "        num_of_doors,\n",
    "        highway_mpg\n",
    "    FROM \n",
    "        autompg\n",
    "DISTRIBUTED by (car_id);\n",
    "$$);\n",
    "\"\"\"\n",
    "psql.execute(sql, conn)\n",
    "conn.commit()"
   ]
  },
  {
   "cell_type": "code",
   "execution_count": 148,
   "metadata": {
    "collapsed": false
   },
   "outputs": [
    {
     "data": {
      "text/html": [
       "<div>\n",
       "<table border=\"1\" class=\"dataframe\">\n",
       "  <thead>\n",
       "    <tr style=\"text-align: right;\">\n",
       "      <th></th>\n",
       "      <th>car_id</th>\n",
       "      <th>make</th>\n",
       "      <th>body_style_convertible</th>\n",
       "      <th>body_style_hardtop</th>\n",
       "      <th>body_style_hatchback</th>\n",
       "      <th>body_style_wagon</th>\n",
       "      <th>fuel_system_mpfi</th>\n",
       "      <th>fuel_system_2bbl</th>\n",
       "      <th>fuel_system_idi</th>\n",
       "      <th>bore</th>\n",
       "      <th>stroke</th>\n",
       "      <th>compression_ratio</th>\n",
       "      <th>horsepower</th>\n",
       "      <th>num_of_doors</th>\n",
       "      <th>highway_mpg</th>\n",
       "    </tr>\n",
       "  </thead>\n",
       "  <tbody>\n",
       "    <tr>\n",
       "      <th>0</th>\n",
       "      <td>32</td>\n",
       "      <td>porsche</td>\n",
       "      <td>0</td>\n",
       "      <td>0</td>\n",
       "      <td>1</td>\n",
       "      <td>0</td>\n",
       "      <td>1</td>\n",
       "      <td>0</td>\n",
       "      <td>0</td>\n",
       "      <td>3.94</td>\n",
       "      <td>3.11</td>\n",
       "      <td>9.5</td>\n",
       "      <td>143</td>\n",
       "      <td>two</td>\n",
       "      <td>27</td>\n",
       "    </tr>\n",
       "    <tr>\n",
       "      <th>1</th>\n",
       "      <td>64</td>\n",
       "      <td>mazda</td>\n",
       "      <td>0</td>\n",
       "      <td>0</td>\n",
       "      <td>0</td>\n",
       "      <td>0</td>\n",
       "      <td>0</td>\n",
       "      <td>1</td>\n",
       "      <td>0</td>\n",
       "      <td>3.39</td>\n",
       "      <td>3.39</td>\n",
       "      <td>8.6</td>\n",
       "      <td>84</td>\n",
       "      <td>four</td>\n",
       "      <td>32</td>\n",
       "    </tr>\n",
       "    <tr>\n",
       "      <th>2</th>\n",
       "      <td>25</td>\n",
       "      <td>volvo</td>\n",
       "      <td>0</td>\n",
       "      <td>0</td>\n",
       "      <td>0</td>\n",
       "      <td>0</td>\n",
       "      <td>1</td>\n",
       "      <td>0</td>\n",
       "      <td>0</td>\n",
       "      <td>3.78</td>\n",
       "      <td>3.15</td>\n",
       "      <td>9.5</td>\n",
       "      <td>114</td>\n",
       "      <td>four</td>\n",
       "      <td>25</td>\n",
       "    </tr>\n",
       "    <tr>\n",
       "      <th>3</th>\n",
       "      <td>149</td>\n",
       "      <td>honda</td>\n",
       "      <td>0</td>\n",
       "      <td>0</td>\n",
       "      <td>1</td>\n",
       "      <td>0</td>\n",
       "      <td>0</td>\n",
       "      <td>0</td>\n",
       "      <td>0</td>\n",
       "      <td>3.15</td>\n",
       "      <td>3.58</td>\n",
       "      <td>9.0</td>\n",
       "      <td>86</td>\n",
       "      <td>two</td>\n",
       "      <td>33</td>\n",
       "    </tr>\n",
       "    <tr>\n",
       "      <th>4</th>\n",
       "      <td>31</td>\n",
       "      <td>subaru</td>\n",
       "      <td>0</td>\n",
       "      <td>0</td>\n",
       "      <td>0</td>\n",
       "      <td>0</td>\n",
       "      <td>1</td>\n",
       "      <td>0</td>\n",
       "      <td>0</td>\n",
       "      <td>3.62</td>\n",
       "      <td>2.64</td>\n",
       "      <td>7.7</td>\n",
       "      <td>111</td>\n",
       "      <td>four</td>\n",
       "      <td>29</td>\n",
       "    </tr>\n",
       "  </tbody>\n",
       "</table>\n",
       "</div>"
      ],
      "text/plain": [
       "   car_id     make  body_style_convertible  body_style_hardtop  \\\n",
       "0  32      porsche  0                       0                    \n",
       "1  64      mazda    0                       0                    \n",
       "2  25      volvo    0                       0                    \n",
       "3  149     honda    0                       0                    \n",
       "4  31      subaru   0                       0                    \n",
       "\n",
       "   body_style_hatchback  body_style_wagon  fuel_system_mpfi  fuel_system_2bbl  \\\n",
       "0  1                     0                 1                 0                  \n",
       "1  0                     0                 0                 1                  \n",
       "2  0                     0                 1                 0                  \n",
       "3  1                     0                 0                 0                  \n",
       "4  0                     0                 1                 0                  \n",
       "\n",
       "   fuel_system_idi  bore  stroke  compression_ratio  horsepower num_of_doors  \\\n",
       "0  0                3.94  3.11    9.5                143         two           \n",
       "1  0                3.39  3.39    8.6                84          four          \n",
       "2  0                3.78  3.15    9.5                114         four          \n",
       "3  0                3.15  3.58    9.0                86          two           \n",
       "4  0                3.62  2.64    7.7                111         four          \n",
       "\n",
       "   highway_mpg  \n",
       "0  27           \n",
       "1  32           \n",
       "2  25           \n",
       "3  33           \n",
       "4  29           "
      ]
     },
     "metadata": {},
     "output_type": "display_data"
    }
   ],
   "source": [
    "%%showsql\n",
    "select \n",
    "  *\n",
    "from\n",
    "  autompg_pivot\n",
    "limit 5;"
   ]
  },
  {
   "cell_type": "markdown",
   "metadata": {},
   "source": [
    "#### Anonymization"
   ]
  },
  {
   "cell_type": "code",
   "execution_count": 149,
   "metadata": {
    "collapsed": false
   },
   "outputs": [],
   "source": [
    "sql = \"\"\"\n",
    "DROP TABLE IF EXISTS anonymization_table;\n",
    "SELECT pdltools.create_anonymization_table(\n",
    "   'autompg_pivot', -- input table\n",
    "   'anonymization_table', -- output table\n",
    "   'make') -- column that contains the keys to anonymize\n",
    ";\"\"\"\n",
    "psql.execute(sql, conn)\n",
    "conn.commit()"
   ]
  },
  {
   "cell_type": "code",
   "execution_count": 150,
   "metadata": {
    "collapsed": false
   },
   "outputs": [
    {
     "data": {
      "text/html": [
       "<div>\n",
       "<table border=\"1\" class=\"dataframe\">\n",
       "  <thead>\n",
       "    <tr style=\"text-align: right;\">\n",
       "      <th></th>\n",
       "      <th>id</th>\n",
       "      <th>anon_id</th>\n",
       "    </tr>\n",
       "  </thead>\n",
       "  <tbody>\n",
       "    <tr>\n",
       "      <th>0</th>\n",
       "      <td>volkswagen</td>\n",
       "      <td>e1b33361e5c98e10e4fd5182da1ea779</td>\n",
       "    </tr>\n",
       "    <tr>\n",
       "      <th>1</th>\n",
       "      <td>toyota</td>\n",
       "      <td>b87c422bc924a679cbf0865db6ec64ce</td>\n",
       "    </tr>\n",
       "    <tr>\n",
       "      <th>2</th>\n",
       "      <td>porsche</td>\n",
       "      <td>11252c989815273286f35cd7cc9692d1</td>\n",
       "    </tr>\n",
       "    <tr>\n",
       "      <th>3</th>\n",
       "      <td>audi</td>\n",
       "      <td>04a80a20346bfa3f29e61bb44dc9db0e</td>\n",
       "    </tr>\n",
       "    <tr>\n",
       "      <th>4</th>\n",
       "      <td>mercedes-benz</td>\n",
       "      <td>90703bd638a8fc188f23a91d54331307</td>\n",
       "    </tr>\n",
       "    <tr>\n",
       "      <th>5</th>\n",
       "      <td>peugot</td>\n",
       "      <td>71aa83deb1ebb9412ed27f3d11b18231</td>\n",
       "    </tr>\n",
       "    <tr>\n",
       "      <th>6</th>\n",
       "      <td>chevrolet</td>\n",
       "      <td>16eb2bbf59d8e6972430ac0eae951658</td>\n",
       "    </tr>\n",
       "    <tr>\n",
       "      <th>7</th>\n",
       "      <td>mitsubishi</td>\n",
       "      <td>891492fa329d93a482c8d125c00c4390</td>\n",
       "    </tr>\n",
       "    <tr>\n",
       "      <th>8</th>\n",
       "      <td>mazda</td>\n",
       "      <td>2a5fdb92487901e8bbd2a0b716394b6d</td>\n",
       "    </tr>\n",
       "    <tr>\n",
       "      <th>9</th>\n",
       "      <td>volvo</td>\n",
       "      <td>a55081a2c20499b4eabc0c398a0e554a</td>\n",
       "    </tr>\n",
       "    <tr>\n",
       "      <th>10</th>\n",
       "      <td>subaru</td>\n",
       "      <td>33d6488d7a0fb8e09acd80169fad6224</td>\n",
       "    </tr>\n",
       "    <tr>\n",
       "      <th>11</th>\n",
       "      <td>dodge</td>\n",
       "      <td>72a9f68525ba8d0ac8da7e8d87b3d769</td>\n",
       "    </tr>\n",
       "    <tr>\n",
       "      <th>12</th>\n",
       "      <td>saab</td>\n",
       "      <td>6b0b8f83681a7acdd8c952e24a7e6330</td>\n",
       "    </tr>\n",
       "    <tr>\n",
       "      <th>13</th>\n",
       "      <td>plymouth</td>\n",
       "      <td>6779c025a2c2a5644f18da328d175e81</td>\n",
       "    </tr>\n",
       "    <tr>\n",
       "      <th>14</th>\n",
       "      <td>bmw</td>\n",
       "      <td>b5ee9153f2446be1b9f0668de03d8a19</td>\n",
       "    </tr>\n",
       "    <tr>\n",
       "      <th>15</th>\n",
       "      <td>honda</td>\n",
       "      <td>623c06458df23b2b3ea0169c0554c6ad</td>\n",
       "    </tr>\n",
       "    <tr>\n",
       "      <th>16</th>\n",
       "      <td>jaguar</td>\n",
       "      <td>bf942e45505dbe83cbd0becfccf4e509</td>\n",
       "    </tr>\n",
       "    <tr>\n",
       "      <th>17</th>\n",
       "      <td>nissan</td>\n",
       "      <td>5afdc7e914bbb790a0a0f3421b4b5f90</td>\n",
       "    </tr>\n",
       "  </tbody>\n",
       "</table>\n",
       "</div>"
      ],
      "text/plain": [
       "               id                           anon_id\n",
       "0   volkswagen     e1b33361e5c98e10e4fd5182da1ea779\n",
       "1   toyota         b87c422bc924a679cbf0865db6ec64ce\n",
       "2   porsche        11252c989815273286f35cd7cc9692d1\n",
       "3   audi           04a80a20346bfa3f29e61bb44dc9db0e\n",
       "4   mercedes-benz  90703bd638a8fc188f23a91d54331307\n",
       "5   peugot         71aa83deb1ebb9412ed27f3d11b18231\n",
       "6   chevrolet      16eb2bbf59d8e6972430ac0eae951658\n",
       "7   mitsubishi     891492fa329d93a482c8d125c00c4390\n",
       "8   mazda          2a5fdb92487901e8bbd2a0b716394b6d\n",
       "9   volvo          a55081a2c20499b4eabc0c398a0e554a\n",
       "10  subaru         33d6488d7a0fb8e09acd80169fad6224\n",
       "11  dodge          72a9f68525ba8d0ac8da7e8d87b3d769\n",
       "12  saab           6b0b8f83681a7acdd8c952e24a7e6330\n",
       "13  plymouth       6779c025a2c2a5644f18da328d175e81\n",
       "14  bmw            b5ee9153f2446be1b9f0668de03d8a19\n",
       "15  honda          623c06458df23b2b3ea0169c0554c6ad\n",
       "16  jaguar         bf942e45505dbe83cbd0becfccf4e509\n",
       "17  nissan         5afdc7e914bbb790a0a0f3421b4b5f90"
      ]
     },
     "metadata": {},
     "output_type": "display_data"
    }
   ],
   "source": [
    "%%showsql\n",
    "select * from anonymization_table;"
   ]
  },
  {
   "cell_type": "code",
   "execution_count": 151,
   "metadata": {
    "collapsed": false
   },
   "outputs": [],
   "source": [
    "sql = \"\"\"\n",
    "DROP TABLE IF EXISTS anonymized_autompg;\n",
    "SELECT pdltools.anonymize(\n",
    "   'public', -- schema\n",
    "   'autompg_pivot', -- input table\n",
    "   'anonymized_autompg', -- output table (anonymized version of input table)\n",
    "    array['make'], -- columns to anonymize\n",
    "   'anonymization_table'); --anonymization table\n",
    "\"\"\"\n",
    "psql.execute(sql, conn)\n",
    "conn.commit()"
   ]
  },
  {
   "cell_type": "code",
   "execution_count": 152,
   "metadata": {
    "collapsed": false
   },
   "outputs": [
    {
     "data": {
      "text/html": [
       "<div>\n",
       "<table border=\"1\" class=\"dataframe\">\n",
       "  <thead>\n",
       "    <tr style=\"text-align: right;\">\n",
       "      <th></th>\n",
       "      <th>car_id</th>\n",
       "      <th>make</th>\n",
       "      <th>body_style_convertible</th>\n",
       "      <th>body_style_hardtop</th>\n",
       "      <th>body_style_hatchback</th>\n",
       "      <th>body_style_wagon</th>\n",
       "      <th>fuel_system_mpfi</th>\n",
       "      <th>fuel_system_2bbl</th>\n",
       "      <th>fuel_system_idi</th>\n",
       "      <th>bore</th>\n",
       "      <th>stroke</th>\n",
       "      <th>compression_ratio</th>\n",
       "      <th>horsepower</th>\n",
       "      <th>num_of_doors</th>\n",
       "      <th>highway_mpg</th>\n",
       "    </tr>\n",
       "  </thead>\n",
       "  <tbody>\n",
       "    <tr>\n",
       "      <th>0</th>\n",
       "      <td>129</td>\n",
       "      <td>e1b33361e5c98e10e4fd5182da1ea779</td>\n",
       "      <td>0</td>\n",
       "      <td>0</td>\n",
       "      <td>0</td>\n",
       "      <td>0</td>\n",
       "      <td>1</td>\n",
       "      <td>0</td>\n",
       "      <td>0</td>\n",
       "      <td>3.19</td>\n",
       "      <td>3.40</td>\n",
       "      <td>10.0</td>\n",
       "      <td>100</td>\n",
       "      <td>four</td>\n",
       "      <td>32</td>\n",
       "    </tr>\n",
       "    <tr>\n",
       "      <th>1</th>\n",
       "      <td>97</td>\n",
       "      <td>e1b33361e5c98e10e4fd5182da1ea779</td>\n",
       "      <td>0</td>\n",
       "      <td>0</td>\n",
       "      <td>0</td>\n",
       "      <td>0</td>\n",
       "      <td>1</td>\n",
       "      <td>0</td>\n",
       "      <td>0</td>\n",
       "      <td>3.19</td>\n",
       "      <td>3.40</td>\n",
       "      <td>9.0</td>\n",
       "      <td>85</td>\n",
       "      <td>two</td>\n",
       "      <td>34</td>\n",
       "    </tr>\n",
       "    <tr>\n",
       "      <th>2</th>\n",
       "      <td>22</td>\n",
       "      <td>a55081a2c20499b4eabc0c398a0e554a</td>\n",
       "      <td>0</td>\n",
       "      <td>0</td>\n",
       "      <td>0</td>\n",
       "      <td>0</td>\n",
       "      <td>1</td>\n",
       "      <td>0</td>\n",
       "      <td>0</td>\n",
       "      <td>3.78</td>\n",
       "      <td>3.15</td>\n",
       "      <td>9.5</td>\n",
       "      <td>114</td>\n",
       "      <td>four</td>\n",
       "      <td>28</td>\n",
       "    </tr>\n",
       "    <tr>\n",
       "      <th>3</th>\n",
       "      <td>54</td>\n",
       "      <td>71aa83deb1ebb9412ed27f3d11b18231</td>\n",
       "      <td>0</td>\n",
       "      <td>0</td>\n",
       "      <td>0</td>\n",
       "      <td>0</td>\n",
       "      <td>0</td>\n",
       "      <td>0</td>\n",
       "      <td>1</td>\n",
       "      <td>3.70</td>\n",
       "      <td>3.52</td>\n",
       "      <td>21.0</td>\n",
       "      <td>95</td>\n",
       "      <td>four</td>\n",
       "      <td>33</td>\n",
       "    </tr>\n",
       "    <tr>\n",
       "      <th>4</th>\n",
       "      <td>119</td>\n",
       "      <td>72a9f68525ba8d0ac8da7e8d87b3d769</td>\n",
       "      <td>0</td>\n",
       "      <td>0</td>\n",
       "      <td>0</td>\n",
       "      <td>0</td>\n",
       "      <td>0</td>\n",
       "      <td>1</td>\n",
       "      <td>0</td>\n",
       "      <td>2.97</td>\n",
       "      <td>3.23</td>\n",
       "      <td>9.4</td>\n",
       "      <td>68</td>\n",
       "      <td>four</td>\n",
       "      <td>38</td>\n",
       "    </tr>\n",
       "  </tbody>\n",
       "</table>\n",
       "</div>"
      ],
      "text/plain": [
       "   car_id                              make  body_style_convertible  \\\n",
       "0  129     e1b33361e5c98e10e4fd5182da1ea779  0                        \n",
       "1  97      e1b33361e5c98e10e4fd5182da1ea779  0                        \n",
       "2  22      a55081a2c20499b4eabc0c398a0e554a  0                        \n",
       "3  54      71aa83deb1ebb9412ed27f3d11b18231  0                        \n",
       "4  119     72a9f68525ba8d0ac8da7e8d87b3d769  0                        \n",
       "\n",
       "   body_style_hardtop  body_style_hatchback  body_style_wagon  \\\n",
       "0  0                   0                     0                  \n",
       "1  0                   0                     0                  \n",
       "2  0                   0                     0                  \n",
       "3  0                   0                     0                  \n",
       "4  0                   0                     0                  \n",
       "\n",
       "   fuel_system_mpfi  fuel_system_2bbl  fuel_system_idi  bore  stroke  \\\n",
       "0  1                 0                 0                3.19  3.40     \n",
       "1  1                 0                 0                3.19  3.40     \n",
       "2  1                 0                 0                3.78  3.15     \n",
       "3  0                 0                 1                3.70  3.52     \n",
       "4  0                 1                 0                2.97  3.23     \n",
       "\n",
       "   compression_ratio  horsepower num_of_doors  highway_mpg  \n",
       "0  10.0               100         four         32           \n",
       "1  9.0                85          two          34           \n",
       "2  9.5                114         four         28           \n",
       "3  21.0               95          four         33           \n",
       "4  9.4                68          four         38           "
      ]
     },
     "metadata": {},
     "output_type": "display_data"
    }
   ],
   "source": [
    "%%showsql\n",
    "select \n",
    "  * \n",
    "from \n",
    "  anonymized_autompg\n",
    "limit 5;"
   ]
  },
  {
   "cell_type": "code",
   "execution_count": 153,
   "metadata": {
    "collapsed": false
   },
   "outputs": [
    {
     "data": {
      "text/html": [
       "<div>\n",
       "<table border=\"1\" class=\"dataframe\">\n",
       "  <thead>\n",
       "    <tr style=\"text-align: right;\">\n",
       "      <th></th>\n",
       "      <th>num_of_doors</th>\n",
       "      <th>count</th>\n",
       "    </tr>\n",
       "  </thead>\n",
       "  <tbody>\n",
       "    <tr>\n",
       "      <th>0</th>\n",
       "      <td>four</td>\n",
       "      <td>95</td>\n",
       "    </tr>\n",
       "    <tr>\n",
       "      <th>1</th>\n",
       "      <td>two</td>\n",
       "      <td>64</td>\n",
       "    </tr>\n",
       "  </tbody>\n",
       "</table>\n",
       "</div>"
      ],
      "text/plain": [
       "  num_of_doors  count\n",
       "0  four         95   \n",
       "1  two          64   "
      ]
     },
     "metadata": {},
     "output_type": "display_data"
    }
   ],
   "source": [
    "%%showsql\n",
    "select\n",
    "    num_of_doors,\n",
    "    count(*)\n",
    "from\n",
    "    anonymized_autompg\n",
    "group by 1\n",
    "order by 2 desc;"
   ]
  },
  {
   "cell_type": "code",
   "execution_count": 171,
   "metadata": {
    "collapsed": false
   },
   "outputs": [],
   "source": [
    "sql = \"\"\"\n",
    "DROP TABLE IF EXISTS stratified_autompg;\n",
    "SELECT \n",
    "   pdltools.strat_partition(\n",
    "      'anonymized_autompg', -- input table\n",
    "      'stratified_autompg', -- output table\n",
    "      'car_id, \n",
    "       make, \n",
    "       body_style_convertible, \n",
    "       body_style_hardtop, \n",
    "       body_style_hatchback,\n",
    "       body_style_wagon, \n",
    "       fuel_system_mpfi, \n",
    "       fuel_system_2bbl, \n",
    "       fuel_system_idi, \n",
    "       bore, \n",
    "       stroke,\n",
    "       compression_ratio,\n",
    "       horsepower,\n",
    "       highway_mpg', -- columns to reproduce in output table\n",
    "      'num_of_doors', -- column to stratify by\n",
    "      'split', -- name of the column that specifies the partition\n",
    "      ARRAY[0.7, 0.3]\n",
    ");\n",
    "\"\"\"\n",
    "psql.execute(sql, conn)\n",
    "conn.commit()"
   ]
  },
  {
   "cell_type": "code",
   "execution_count": 172,
   "metadata": {
    "collapsed": false
   },
   "outputs": [
    {
     "data": {
      "text/html": [
       "<div>\n",
       "<table border=\"1\" class=\"dataframe\">\n",
       "  <thead>\n",
       "    <tr style=\"text-align: right;\">\n",
       "      <th></th>\n",
       "      <th>car_id</th>\n",
       "      <th>make</th>\n",
       "      <th>num_of_doors</th>\n",
       "      <th>split</th>\n",
       "    </tr>\n",
       "  </thead>\n",
       "  <tbody>\n",
       "    <tr>\n",
       "      <th>0</th>\n",
       "      <td>82</td>\n",
       "      <td>5afdc7e914bbb790a0a0f3421b4b5f90</td>\n",
       "      <td>two</td>\n",
       "      <td>1</td>\n",
       "    </tr>\n",
       "    <tr>\n",
       "      <th>1</th>\n",
       "      <td>5</td>\n",
       "      <td>891492fa329d93a482c8d125c00c4390</td>\n",
       "      <td>two</td>\n",
       "      <td>1</td>\n",
       "    </tr>\n",
       "    <tr>\n",
       "      <th>2</th>\n",
       "      <td>158</td>\n",
       "      <td>891492fa329d93a482c8d125c00c4390</td>\n",
       "      <td>two</td>\n",
       "      <td>0</td>\n",
       "    </tr>\n",
       "    <tr>\n",
       "      <th>3</th>\n",
       "      <td>126</td>\n",
       "      <td>b87c422bc924a679cbf0865db6ec64ce</td>\n",
       "      <td>two</td>\n",
       "      <td>0</td>\n",
       "    </tr>\n",
       "    <tr>\n",
       "      <th>4</th>\n",
       "      <td>49</td>\n",
       "      <td>b87c422bc924a679cbf0865db6ec64ce</td>\n",
       "      <td>two</td>\n",
       "      <td>0</td>\n",
       "    </tr>\n",
       "    <tr>\n",
       "      <th>5</th>\n",
       "      <td>132</td>\n",
       "      <td>e1b33361e5c98e10e4fd5182da1ea779</td>\n",
       "      <td>two</td>\n",
       "      <td>0</td>\n",
       "    </tr>\n",
       "    <tr>\n",
       "      <th>6</th>\n",
       "      <td>93</td>\n",
       "      <td>33d6488d7a0fb8e09acd80169fad6224</td>\n",
       "      <td>two</td>\n",
       "      <td>0</td>\n",
       "    </tr>\n",
       "    <tr>\n",
       "      <th>7</th>\n",
       "      <td>144</td>\n",
       "      <td>b87c422bc924a679cbf0865db6ec64ce</td>\n",
       "      <td>two</td>\n",
       "      <td>1</td>\n",
       "    </tr>\n",
       "    <tr>\n",
       "      <th>8</th>\n",
       "      <td>156</td>\n",
       "      <td>b87c422bc924a679cbf0865db6ec64ce</td>\n",
       "      <td>two</td>\n",
       "      <td>1</td>\n",
       "    </tr>\n",
       "    <tr>\n",
       "      <th>9</th>\n",
       "      <td>130</td>\n",
       "      <td>b87c422bc924a679cbf0865db6ec64ce</td>\n",
       "      <td>two</td>\n",
       "      <td>0</td>\n",
       "    </tr>\n",
       "  </tbody>\n",
       "</table>\n",
       "</div>"
      ],
      "text/plain": [
       "   car_id                              make num_of_doors  split\n",
       "0  82      5afdc7e914bbb790a0a0f3421b4b5f90  two          1    \n",
       "1  5       891492fa329d93a482c8d125c00c4390  two          1    \n",
       "2  158     891492fa329d93a482c8d125c00c4390  two          0    \n",
       "3  126     b87c422bc924a679cbf0865db6ec64ce  two          0    \n",
       "4  49      b87c422bc924a679cbf0865db6ec64ce  two          0    \n",
       "5  132     e1b33361e5c98e10e4fd5182da1ea779  two          0    \n",
       "6  93      33d6488d7a0fb8e09acd80169fad6224  two          0    \n",
       "7  144     b87c422bc924a679cbf0865db6ec64ce  two          1    \n",
       "8  156     b87c422bc924a679cbf0865db6ec64ce  two          1    \n",
       "9  130     b87c422bc924a679cbf0865db6ec64ce  two          0    "
      ]
     },
     "metadata": {},
     "output_type": "display_data"
    }
   ],
   "source": [
    "%%showsql\n",
    "select\n",
    "    car_id,\n",
    "    make,\n",
    "    num_of_doors,\n",
    "    split\n",
    "from\n",
    "    stratified_autompg\n",
    "limit 10;"
   ]
  },
  {
   "cell_type": "code",
   "execution_count": 173,
   "metadata": {
    "collapsed": true
   },
   "outputs": [],
   "source": [
    "sql = \"\"\"\n",
    "DROP TABLE IF EXISTS autompg_train;\n",
    "CREATE TABLE autompg_train AS (\n",
    "    SELECT\n",
    "      *\n",
    "    FROM\n",
    "      stratified_autompg\n",
    "    WHERE\n",
    "      split = 0\n",
    ") distributed by (car_id);\n",
    "\"\"\"\n",
    "psql.execute(sql, conn)\n",
    "conn.commit()\n",
    "\n",
    "sql = \"\"\"\n",
    "DROP TABLE IF EXISTS autompg_test;\n",
    "CREATE TABLE autompg_test AS (\n",
    "    SELECT\n",
    "      *\n",
    "    FROM\n",
    "      stratified_autompg\n",
    "    WHERE\n",
    "      split = 1\n",
    ") distributed by (car_id);\n",
    "\"\"\"\n",
    "psql.execute(sql, conn)\n",
    "conn.commit()"
   ]
  },
  {
   "cell_type": "code",
   "execution_count": 174,
   "metadata": {
    "collapsed": false
   },
   "outputs": [],
   "source": [
    "sql = \"\"\" \n",
    "DROP TABLE IF EXISTS autompg_mdl;\n",
    "DROP TABLE IF EXISTS autompg_mdl_summary;\n",
    "SELECT \n",
    "   madlib.linregr_train( \n",
    "      'autompg_train', -- input table\n",
    "      'autompg_mdl', -- output table\n",
    "      'highway_mpg', -- dependent variable (to predict)\n",
    "      'ARRAY[1, \n",
    "            body_style_convertible, \n",
    "            body_style_hardtop, \n",
    "            body_style_hatchback, \n",
    "            body_style_wagon, \n",
    "            fuel_system_mpfi, \n",
    "            fuel_system_2bbl, \n",
    "            fuel_system_idi, \n",
    "            bore, \n",
    "            stroke,\n",
    "            compression_ratio,\n",
    "            horsepower ]' -- independent variables\n",
    ");\n",
    "\"\"\"\n",
    "psql.execute(sql, conn)\n",
    "conn.commit()\n",
    "\n",
    "sql = \"\"\"\n",
    "DROP TABLE IF EXISTS autompg_linreg;\n",
    "CREATE TABLE autompg_linreg\n",
    "AS \n",
    "(\n",
    "    SELECT \n",
    "       car_id,\n",
    "       make,\n",
    "       highway_mpg as y,\n",
    "       madlib.linregr_predict( \n",
    "          ARRAY[1, \n",
    "                body_style_convertible, \n",
    "                body_style_hardtop, \n",
    "                body_style_hatchback, \n",
    "                body_style_wagon, \n",
    "                fuel_system_mpfi, \n",
    "                fuel_system_2bbl, \n",
    "                fuel_system_idi, \n",
    "                bore, \n",
    "                stroke,\n",
    "                compression_ratio,\n",
    "                horsepower],\n",
    "            m.coef\n",
    "        ) as y_hat\n",
    "    FROM \n",
    "      autompg_test, autompg_mdl m\n",
    ") distributed by (car_id)\n",
    "\"\"\"\n",
    "psql.execute(sql, conn)\n",
    "conn.commit()"
   ]
  },
  {
   "cell_type": "code",
   "execution_count": 175,
   "metadata": {
    "collapsed": false
   },
   "outputs": [
    {
     "data": {
      "text/html": [
       "<div>\n",
       "<table border=\"1\" class=\"dataframe\">\n",
       "  <thead>\n",
       "    <tr style=\"text-align: right;\">\n",
       "      <th></th>\n",
       "      <th>car_id</th>\n",
       "      <th>make</th>\n",
       "      <th>y</th>\n",
       "      <th>y_hat</th>\n",
       "    </tr>\n",
       "  </thead>\n",
       "  <tbody>\n",
       "    <tr>\n",
       "      <th>0</th>\n",
       "      <td>129</td>\n",
       "      <td>e1b33361e5c98e10e4fd5182da1ea779</td>\n",
       "      <td>32</td>\n",
       "      <td>33.493809</td>\n",
       "    </tr>\n",
       "    <tr>\n",
       "      <th>1</th>\n",
       "      <td>111</td>\n",
       "      <td>72a9f68525ba8d0ac8da7e8d87b3d769</td>\n",
       "      <td>41</td>\n",
       "      <td>39.316339</td>\n",
       "    </tr>\n",
       "    <tr>\n",
       "      <th>2</th>\n",
       "      <td>31</td>\n",
       "      <td>33d6488d7a0fb8e09acd80169fad6224</td>\n",
       "      <td>29</td>\n",
       "      <td>24.118929</td>\n",
       "    </tr>\n",
       "    <tr>\n",
       "      <th>3</th>\n",
       "      <td>76</td>\n",
       "      <td>6b0b8f83681a7acdd8c952e24a7e6330</td>\n",
       "      <td>26</td>\n",
       "      <td>23.638188</td>\n",
       "    </tr>\n",
       "    <tr>\n",
       "      <th>4</th>\n",
       "      <td>34</td>\n",
       "      <td>6779c025a2c2a5644f18da328d175e81</td>\n",
       "      <td>38</td>\n",
       "      <td>38.087282</td>\n",
       "    </tr>\n",
       "  </tbody>\n",
       "</table>\n",
       "</div>"
      ],
      "text/plain": [
       "   car_id                              make   y      y_hat\n",
       "0  129     e1b33361e5c98e10e4fd5182da1ea779  32  33.493809\n",
       "1  111     72a9f68525ba8d0ac8da7e8d87b3d769  41  39.316339\n",
       "2  31      33d6488d7a0fb8e09acd80169fad6224  29  24.118929\n",
       "3  76      6b0b8f83681a7acdd8c952e24a7e6330  26  23.638188\n",
       "4  34      6779c025a2c2a5644f18da328d175e81  38  38.087282"
      ]
     },
     "metadata": {},
     "output_type": "display_data"
    }
   ],
   "source": [
    "%%showsql\n",
    "select \n",
    "  * \n",
    "from \n",
    "  autompg_linreg\n",
    "limit 5;"
   ]
  },
  {
   "cell_type": "markdown",
   "metadata": {},
   "source": [
    "#### Prediction metrics"
   ]
  },
  {
   "cell_type": "code",
   "execution_count": 176,
   "metadata": {
    "collapsed": false
   },
   "outputs": [
    {
     "data": {
      "text/html": [
       "<div>\n",
       "<table border=\"1\" class=\"dataframe\">\n",
       "  <thead>\n",
       "    <tr style=\"text-align: right;\">\n",
       "      <th></th>\n",
       "      <th>mf_mae</th>\n",
       "    </tr>\n",
       "  </thead>\n",
       "  <tbody>\n",
       "    <tr>\n",
       "      <th>0</th>\n",
       "      <td>2.480434</td>\n",
       "    </tr>\n",
       "  </tbody>\n",
       "</table>\n",
       "</div>"
      ],
      "text/plain": [
       "     mf_mae\n",
       "0  2.480434"
      ]
     },
     "metadata": {},
     "output_type": "display_data"
    }
   ],
   "source": [
    "%%showsql\n",
    "select \n",
    "  pdltools.mf_mae(y_hat,y) \n",
    "from\n",
    "   autompg_linreg;"
   ]
  },
  {
   "cell_type": "code",
   "execution_count": 177,
   "metadata": {
    "collapsed": false
   },
   "outputs": [
    {
     "data": {
      "text/html": [
       "<div>\n",
       "<table border=\"1\" class=\"dataframe\">\n",
       "  <thead>\n",
       "    <tr style=\"text-align: right;\">\n",
       "      <th></th>\n",
       "      <th>mf_rmse</th>\n",
       "    </tr>\n",
       "  </thead>\n",
       "  <tbody>\n",
       "    <tr>\n",
       "      <th>0</th>\n",
       "      <td>3.454677</td>\n",
       "    </tr>\n",
       "  </tbody>\n",
       "</table>\n",
       "</div>"
      ],
      "text/plain": [
       "    mf_rmse\n",
       "0  3.454677"
      ]
     },
     "metadata": {},
     "output_type": "display_data"
    }
   ],
   "source": [
    "%%showsql\n",
    "select \n",
    "  pdltools.mf_rmse(y_hat,y) \n",
    "from\n",
    "   autompg_linreg;"
   ]
  },
  {
   "cell_type": "code",
   "execution_count": 178,
   "metadata": {
    "collapsed": false
   },
   "outputs": [
    {
     "data": {
      "text/html": [
       "<div>\n",
       "<table border=\"1\" class=\"dataframe\">\n",
       "  <thead>\n",
       "    <tr style=\"text-align: right;\">\n",
       "      <th></th>\n",
       "      <th>mf_r2</th>\n",
       "    </tr>\n",
       "  </thead>\n",
       "  <tbody>\n",
       "    <tr>\n",
       "      <th>0</th>\n",
       "      <td>0.64117</td>\n",
       "    </tr>\n",
       "  </tbody>\n",
       "</table>\n",
       "</div>"
      ],
      "text/plain": [
       "     mf_r2\n",
       "0  0.64117"
      ]
     },
     "metadata": {},
     "output_type": "display_data"
    }
   ],
   "source": [
    "%%showsql\n",
    "select \n",
    "  pdltools.mf_r2(y_hat,y) \n",
    "from\n",
    "   autompg_linreg;"
   ]
  },
  {
   "cell_type": "markdown",
   "metadata": {},
   "source": [
    "#### Stemming"
   ]
  },
  {
   "cell_type": "code",
   "execution_count": 16,
   "metadata": {
    "collapsed": false
   },
   "outputs": [
    {
     "data": {
      "text/html": [
       "<div>\n",
       "<table border=\"1\" class=\"dataframe\">\n",
       "  <thead>\n",
       "    <tr style=\"text-align: right;\">\n",
       "      <th></th>\n",
       "      <th>stem_token</th>\n",
       "    </tr>\n",
       "  </thead>\n",
       "  <tbody>\n",
       "    <tr>\n",
       "      <th>0</th>\n",
       "      <td>run</td>\n",
       "    </tr>\n",
       "  </tbody>\n",
       "</table>\n",
       "</div>"
      ],
      "text/plain": [
       "  stem_token\n",
       "0  run      "
      ]
     },
     "metadata": {},
     "output_type": "display_data"
    }
   ],
   "source": [
    "%%showsql\n",
    "select pdltools.stem_token('run')"
   ]
  },
  {
   "cell_type": "code",
   "execution_count": 17,
   "metadata": {
    "collapsed": false
   },
   "outputs": [
    {
     "data": {
      "text/html": [
       "<div>\n",
       "<table border=\"1\" class=\"dataframe\">\n",
       "  <thead>\n",
       "    <tr style=\"text-align: right;\">\n",
       "      <th></th>\n",
       "      <th>stem_token</th>\n",
       "    </tr>\n",
       "  </thead>\n",
       "  <tbody>\n",
       "    <tr>\n",
       "      <th>0</th>\n",
       "      <td>run</td>\n",
       "    </tr>\n",
       "  </tbody>\n",
       "</table>\n",
       "</div>"
      ],
      "text/plain": [
       "  stem_token\n",
       "0  run      "
      ]
     },
     "metadata": {},
     "output_type": "display_data"
    }
   ],
   "source": [
    "%%showsql\n",
    "select pdltools.stem_token('running')"
   ]
  },
  {
   "cell_type": "code",
   "execution_count": 37,
   "metadata": {
    "collapsed": false
   },
   "outputs": [
    {
     "data": {
      "text/html": [
       "<div>\n",
       "<table border=\"1\" class=\"dataframe\">\n",
       "  <thead>\n",
       "    <tr style=\"text-align: right;\">\n",
       "      <th></th>\n",
       "      <th>stem_token_arr</th>\n",
       "    </tr>\n",
       "  </thead>\n",
       "  <tbody>\n",
       "    <tr>\n",
       "      <th>0</th>\n",
       "      <td>[I, walk, and, plai, with, friendli, dog]</td>\n",
       "    </tr>\n",
       "  </tbody>\n",
       "</table>\n",
       "</div>"
      ],
      "text/plain": [
       "                              stem_token_arr\n",
       "0  [I, walk, and, plai, with, friendli, dog]"
      ]
     },
     "metadata": {},
     "output_type": "display_data"
    }
   ],
   "source": [
    "%%showsql\n",
    "select pdltools.stem_token_arr(ARRAY['I','walked','and','played','with','friendly','dogs'])"
   ]
  },
  {
   "cell_type": "markdown",
   "metadata": {},
   "source": [
    "#### Edit distance"
   ]
  },
  {
   "cell_type": "code",
   "execution_count": 54,
   "metadata": {
    "collapsed": false
   },
   "outputs": [
    {
     "data": {
      "text/html": [
       "<div>\n",
       "<table border=\"1\" class=\"dataframe\">\n",
       "  <thead>\n",
       "    <tr style=\"text-align: right;\">\n",
       "      <th></th>\n",
       "      <th>edit_distance</th>\n",
       "    </tr>\n",
       "  </thead>\n",
       "  <tbody>\n",
       "    <tr>\n",
       "      <th>0</th>\n",
       "      <td>14</td>\n",
       "    </tr>\n",
       "  </tbody>\n",
       "</table>\n",
       "</div>"
      ],
      "text/plain": [
       "   edit_distance\n",
       "0  14           "
      ]
     },
     "metadata": {},
     "output_type": "display_data"
    }
   ],
   "source": [
    "%%showsql\n",
    "select pdltools.edit_distance(\n",
    "    'AGGCTATCACCTGACCTCCAGGCCGATGCCC', -- string1 \n",
    "    'TAGCTATCACGACCGCGGTCGATTTGCCCGA', -- string2\n",
    "    1, -- insert cost \n",
    "    1, -- delete cost \n",
    "    2, -- substitution cost\n",
    "    2 -- transpose cost\n",
    ");"
   ]
  },
  {
   "cell_type": "code",
   "execution_count": 55,
   "metadata": {
    "collapsed": false
   },
   "outputs": [
    {
     "data": {
      "text/html": [
       "<div>\n",
       "<table border=\"1\" class=\"dataframe\">\n",
       "  <thead>\n",
       "    <tr style=\"text-align: right;\">\n",
       "      <th></th>\n",
       "      <th>optimal_alignment_distance</th>\n",
       "    </tr>\n",
       "  </thead>\n",
       "  <tbody>\n",
       "    <tr>\n",
       "      <th>0</th>\n",
       "      <td>12</td>\n",
       "    </tr>\n",
       "  </tbody>\n",
       "</table>\n",
       "</div>"
      ],
      "text/plain": [
       "   optimal_alignment_distance\n",
       "0  12                        "
      ]
     },
     "metadata": {},
     "output_type": "display_data"
    }
   ],
   "source": [
    "%%showsql\n",
    "select pdltools.optimal_alignment_distance(\n",
    "    'AGGCTATCACCTGACCTCCAGGCCGATGCCC', -- string1 \n",
    "    'TAGCTATCACGACCGCGGTCGATTTGCCCGA' -- string2\n",
    ");"
   ]
  },
  {
   "cell_type": "markdown",
   "metadata": {
    "collapsed": true
   },
   "source": [
    "#### Complex numbers"
   ]
  },
  {
   "cell_type": "markdown",
   "metadata": {},
   "source": [
    "Constructor"
   ]
  },
  {
   "cell_type": "code",
   "execution_count": 179,
   "metadata": {
    "collapsed": false
   },
   "outputs": [
    {
     "data": {
      "text/html": [
       "<div>\n",
       "<table border=\"1\" class=\"dataframe\">\n",
       "  <thead>\n",
       "    <tr style=\"text-align: right;\">\n",
       "      <th></th>\n",
       "      <th>complex</th>\n",
       "    </tr>\n",
       "  </thead>\n",
       "  <tbody>\n",
       "    <tr>\n",
       "      <th>0</th>\n",
       "      <td>5 + 3i</td>\n",
       "    </tr>\n",
       "  </tbody>\n",
       "</table>\n",
       "</div>"
      ],
      "text/plain": [
       "  complex\n",
       "0  5 + 3i"
      ]
     },
     "metadata": {},
     "output_type": "display_data"
    }
   ],
   "source": [
    "%%showsql\n",
    "select \n",
    "   pdltools.complex(5,3);"
   ]
  },
  {
   "cell_type": "markdown",
   "metadata": {},
   "source": [
    "Retrieving a complex number's real part."
   ]
  },
  {
   "cell_type": "code",
   "execution_count": 182,
   "metadata": {
    "collapsed": false
   },
   "outputs": [
    {
     "data": {
      "text/html": [
       "<div>\n",
       "<table border=\"1\" class=\"dataframe\">\n",
       "  <thead>\n",
       "    <tr style=\"text-align: right;\">\n",
       "      <th></th>\n",
       "      <th>re</th>\n",
       "      <th>im</th>\n",
       "    </tr>\n",
       "  </thead>\n",
       "  <tbody>\n",
       "    <tr>\n",
       "      <th>0</th>\n",
       "      <td>5</td>\n",
       "      <td>3</td>\n",
       "    </tr>\n",
       "  </tbody>\n",
       "</table>\n",
       "</div>"
      ],
      "text/plain": [
       "   re  im\n",
       "0  5   3 "
      ]
     },
     "metadata": {},
     "output_type": "display_data"
    }
   ],
   "source": [
    "%%showsql\n",
    "select\n",
    "   pdltools.re(pdltools.complex(5,3)), pdltools.im(pdltools.complex(5,3));"
   ]
  },
  {
   "cell_type": "markdown",
   "metadata": {},
   "source": [
    "Angle from the positive real line in radians."
   ]
  },
  {
   "cell_type": "code",
   "execution_count": 184,
   "metadata": {
    "collapsed": false
   },
   "outputs": [
    {
     "data": {
      "text/html": [
       "<div>\n",
       "<table border=\"1\" class=\"dataframe\">\n",
       "  <thead>\n",
       "    <tr style=\"text-align: right;\">\n",
       "      <th></th>\n",
       "      <th>radians</th>\n",
       "    </tr>\n",
       "  </thead>\n",
       "  <tbody>\n",
       "    <tr>\n",
       "      <th>0</th>\n",
       "      <td>1.047198</td>\n",
       "    </tr>\n",
       "  </tbody>\n",
       "</table>\n",
       "</div>"
      ],
      "text/plain": [
       "    radians\n",
       "0  1.047198"
      ]
     },
     "metadata": {},
     "output_type": "display_data"
    }
   ],
   "source": [
    "%%showsql\n",
    "select\n",
    "   pdltools.radians(pdltools.complex(1,sqrt(3)));"
   ]
  }
 ],
 "metadata": {
  "kernelspec": {
   "display_name": "Python 2",
   "language": "python",
   "name": "python2"
  },
  "language_info": {
   "codemirror_mode": {
    "name": "ipython",
    "version": 2
   },
   "file_extension": ".py",
   "mimetype": "text/x-python",
   "name": "python",
   "nbconvert_exporter": "python",
   "pygments_lexer": "ipython2",
   "version": "2.7.11"
  }
 },
 "nbformat": 4,
 "nbformat_minor": 0
}
